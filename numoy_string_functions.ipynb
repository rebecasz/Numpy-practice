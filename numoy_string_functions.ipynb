{
 "cells": [
  {
   "cell_type": "markdown",
   "id": "5438cc21",
   "metadata": {},
   "source": [
    "# Numpy - String Functions"
   ]
  },
  {
   "cell_type": "code",
   "execution_count": 1,
   "id": "d548f55d",
   "metadata": {},
   "outputs": [],
   "source": [
    "import numpy as np"
   ]
  },
  {
   "cell_type": "code",
   "execution_count": 4,
   "id": "79ae4045",
   "metadata": {},
   "outputs": [],
   "source": [
    "a= np.array([\"a\",\"b\"])\n",
    "b= np.array([\"c\"])"
   ]
  },
  {
   "cell_type": "code",
   "execution_count": 5,
   "id": "b5e46a6a",
   "metadata": {},
   "outputs": [
    {
     "name": "stdout",
     "output_type": "stream",
     "text": [
      "['ac' 'bc']\n"
     ]
    }
   ],
   "source": [
    "print(np.char.add(a,b))"
   ]
  },
  {
   "cell_type": "code",
   "execution_count": 6,
   "id": "7dde6086",
   "metadata": {},
   "outputs": [
    {
     "name": "stdout",
     "output_type": "stream",
     "text": [
      "['aaa' 'bbb']\n"
     ]
    }
   ],
   "source": [
    "print(np.char.multiply(a,3))"
   ]
  },
  {
   "cell_type": "code",
   "execution_count": 8,
   "id": "e0fea9a6",
   "metadata": {},
   "outputs": [
    {
     "name": "stdout",
     "output_type": "stream",
     "text": [
      "['****a*****' '****b*****']\n"
     ]
    }
   ],
   "source": [
    "print(np.char.center(a,10,'*'))"
   ]
  },
  {
   "cell_type": "code",
   "execution_count": 11,
   "id": "5169f803",
   "metadata": {},
   "outputs": [
    {
     "name": "stdout",
     "output_type": "stream",
     "text": [
      "['Abc' 'Def']\n"
     ]
    }
   ],
   "source": [
    "c= np.array([\"abc\", \"def\"])\n",
    "print(np.char.capitalize(c))"
   ]
  },
  {
   "cell_type": "code",
   "execution_count": 12,
   "id": "698f1c9f",
   "metadata": {},
   "outputs": [
    {
     "name": "stdout",
     "output_type": "stream",
     "text": [
      "['Abc' 'Def']\n"
     ]
    }
   ],
   "source": [
    "print(np.char.title(c))"
   ]
  },
  {
   "cell_type": "code",
   "execution_count": 13,
   "id": "bef976c6",
   "metadata": {},
   "outputs": [
    {
     "name": "stdout",
     "output_type": "stream",
     "text": [
      "['xyztw' 'qaer']\n"
     ]
    }
   ],
   "source": [
    "d = np.array([\"XyZtW\", \"QaEr\"])\n",
    "print(np.char.lower(d))"
   ]
  },
  {
   "cell_type": "code",
   "execution_count": 14,
   "id": "6e49f336",
   "metadata": {},
   "outputs": [
    {
     "name": "stdout",
     "output_type": "stream",
     "text": [
      "['ABC' 'DEF']\n"
     ]
    }
   ],
   "source": [
    "print(np.char.upper(c))"
   ]
  },
  {
   "cell_type": "code",
   "execution_count": 16,
   "id": "d02111cc",
   "metadata": {},
   "outputs": [
    {
     "name": "stdout",
     "output_type": "stream",
     "text": [
      "[list(['Hello', 'how', 'are', 'you'])]\n"
     ]
    }
   ],
   "source": [
    "e = np.array([\"Hello how are you\"])\n",
    "print(np.char.split(e))"
   ]
  },
  {
   "cell_type": "code",
   "execution_count": 17,
   "id": "f352428c",
   "metadata": {},
   "outputs": [
    {
     "name": "stdout",
     "output_type": "stream",
     "text": [
      "[list(['Hello', 'how', 'are', 'you'])]\n"
     ]
    }
   ],
   "source": [
    "f = np.array([\"Hello\\nhow\\nare\\nyou\"])\n",
    "print(np.char.splitlines(f))"
   ]
  },
  {
   "cell_type": "code",
   "execution_count": 18,
   "id": "cfbe6491",
   "metadata": {},
   "outputs": [
    {
     "name": "stdout",
     "output_type": "stream",
     "text": [
      "['hi']\n"
     ]
    }
   ],
   "source": [
    "g = np.array([\"    hi     \"])\n",
    "print(np.char.strip(g))"
   ]
  },
  {
   "cell_type": "code",
   "execution_count": 21,
   "id": "64992f83",
   "metadata": {},
   "outputs": [
    {
     "name": "stdout",
     "output_type": "stream",
     "text": [
      "['A:B:C' 'D.E.F']\n"
     ]
    }
   ],
   "source": [
    "h = np.array([\":\",\".\"])\n",
    "i = np.array([\"ABC\", \"DEF\"])\n",
    "print(np.char.join(h,i))"
   ]
  },
  {
   "cell_type": "code",
   "execution_count": 22,
   "id": "933c9531",
   "metadata": {},
   "outputs": [
    {
     "name": "stdout",
     "output_type": "stream",
     "text": [
      "['Zi' 'Zello' 'Zey']\n"
     ]
    }
   ],
   "source": [
    "j = np.array([\"Hi\", \"Hello\", \"Hey\"])\n",
    "print(np.char.replace(j, \"H\", \"Z\"))"
   ]
  },
  {
   "cell_type": "code",
   "execution_count": 23,
   "id": "0f932db8",
   "metadata": {},
   "outputs": [
    {
     "name": "stdout",
     "output_type": "stream",
     "text": [
      "b'\\xc8\\x89'\n",
      "Hi\n"
     ]
    }
   ],
   "source": [
    "enstr = np.char.encode(\"Hi\", 'cp500')  \n",
    "dstr =np.char.decode(enstr, 'cp500')  \n",
    "print(enstr)  \n",
    "print(dstr)"
   ]
  }
 ],
 "metadata": {
  "kernelspec": {
   "display_name": "Python 3 (ipykernel)",
   "language": "python",
   "name": "python3"
  },
  "language_info": {
   "codemirror_mode": {
    "name": "ipython",
    "version": 3
   },
   "file_extension": ".py",
   "mimetype": "text/x-python",
   "name": "python",
   "nbconvert_exporter": "python",
   "pygments_lexer": "ipython3",
   "version": "3.9.12"
  }
 },
 "nbformat": 4,
 "nbformat_minor": 5
}
