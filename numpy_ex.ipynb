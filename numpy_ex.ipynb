{
  "metadata": {
    "kernelspec": {
      "name": "python",
      "display_name": "Python (Pyodide)",
      "language": "python"
    },
    "language_info": {
      "codemirror_mode": {
        "name": "python",
        "version": 3
      },
      "file_extension": ".py",
      "mimetype": "text/x-python",
      "name": "python",
      "nbconvert_exporter": "python",
      "pygments_lexer": "ipython3",
      "version": "3.8"
    }
  },
  "nbformat_minor": 5,
  "nbformat": 4,
  "cells": [
    {
      "id": "984d5326-d96f-4faf-8579-97048d0d414b",
      "cell_type": "code",
      "source": "import numpy as np",
      "metadata": {
        "trusted": true
      },
      "outputs": [
        {
          "name": "stdout",
          "text": "1.26.1\n",
          "output_type": "stream"
        }
      ],
      "execution_count": 1
    },
    {
      "id": "6cf5adf3-b1f8-4147-9e85-dfac875f6e02",
      "cell_type": "markdown",
      "source": "Extract all odd numbers from array",
      "metadata": {}
    },
    {
      "id": "4aed50e6-fc93-4c4b-808b-f99e4724af0d",
      "cell_type": "code",
      "source": "arr = np.arange(10)\n\narr[arr%2 == 1]",
      "metadata": {
        "trusted": true
      },
      "outputs": [
        {
          "execution_count": 4,
          "output_type": "execute_result",
          "data": {
            "text/plain": "array([1, 3, 5, 7, 9])"
          },
          "metadata": {}
        }
      ],
      "execution_count": 4
    },
    {
      "id": "3b8ace24-0005-4da3-a881-407f3d18f092",
      "cell_type": "markdown",
      "source": "Replace all odd numbers in arr with -1",
      "metadata": {}
    },
    {
      "id": "98febeab-eeff-4162-9b7d-c81b21b1ecf0",
      "cell_type": "code",
      "source": "arr = np.arange(10)\n\narr[arr%2 == 1] = -1\narr",
      "metadata": {
        "trusted": true
      },
      "outputs": [
        {
          "execution_count": 5,
          "output_type": "execute_result",
          "data": {
            "text/plain": "array([ 0, -1,  2, -1,  4, -1,  6, -1,  8, -1])"
          },
          "metadata": {}
        }
      ],
      "execution_count": 5
    },
    {
      "id": "5ca38896-5325-4c4a-85d4-2e2ba96b1d0a",
      "cell_type": "markdown",
      "source": "Replace all odd numbers in arr with -1 without changing arr",
      "metadata": {}
    },
    {
      "id": "e8f90f4a-f34d-4806-becc-dd0b716fc7e3",
      "cell_type": "code",
      "source": "arr = np.arange(10)\n\nout = arr.copy()\n\nout[out%2 == 1] = -1\n\nprint('Modified Array', out)\nprint('\\nOriginal Array', arr)",
      "metadata": {
        "trusted": true
      },
      "outputs": [
        {
          "name": "stdout",
          "text": "Modified Array [ 0 -1  2 -1  4 -1  6 -1  8 -1]\n\nOriginal Array [0 1 2 3 4 5 6 7 8 9]\n",
          "output_type": "stream"
        }
      ],
      "execution_count": 8
    },
    {
      "id": "e9ee8bdc-0f29-4df5-84cc-3a7cec76aab7",
      "cell_type": "markdown",
      "source": "Convert a 1D array to a 2D array with 2 rows",
      "metadata": {}
    },
    {
      "id": "2111c7c0-528b-4cc7-ae69-568146846e20",
      "cell_type": "code",
      "source": "arr = np.arange(10)\narr.reshape(2,5)",
      "metadata": {
        "trusted": true
      },
      "outputs": [
        {
          "execution_count": 9,
          "output_type": "execute_result",
          "data": {
            "text/plain": "array([[0, 1, 2, 3, 4],\n       [5, 6, 7, 8, 9]])"
          },
          "metadata": {}
        }
      ],
      "execution_count": 9
    },
    {
      "id": "742f7d07-82c3-42f2-a07a-635fc0c6a79e",
      "cell_type": "markdown",
      "source": "Stack arrays a and b vertically",
      "metadata": {}
    },
    {
      "id": "f269570a-80a3-459a-af0a-1f41de9dcd4c",
      "cell_type": "code",
      "source": "a = np.arange(10).reshape(2,-1)\nb = np.repeat(1, 10).reshape(2,-1)\n\nnp.vstack([a,b])",
      "metadata": {
        "trusted": true
      },
      "outputs": [
        {
          "execution_count": 10,
          "output_type": "execute_result",
          "data": {
            "text/plain": "array([[0, 1, 2, 3, 4],\n       [5, 6, 7, 8, 9],\n       [1, 1, 1, 1, 1],\n       [1, 1, 1, 1, 1]])"
          },
          "metadata": {}
        }
      ],
      "execution_count": 10
    },
    {
      "id": "9c8d7c50-5723-4065-8486-3bdd071f9170",
      "cell_type": "markdown",
      "source": "Stack the arrays a and b horizontally",
      "metadata": {}
    },
    {
      "id": "844f041f-5efa-4840-b5ed-965369cf782e",
      "cell_type": "code",
      "source": "a = np.arange(10).reshape(2,-1)\nb = np.repeat(1, 10).reshape(2,-1)\n\nnp.hstack([a,b])",
      "metadata": {
        "trusted": true
      },
      "outputs": [
        {
          "execution_count": 11,
          "output_type": "execute_result",
          "data": {
            "text/plain": "array([[0, 1, 2, 3, 4, 1, 1, 1, 1, 1],\n       [5, 6, 7, 8, 9, 1, 1, 1, 1, 1]])"
          },
          "metadata": {}
        }
      ],
      "execution_count": 11
    },
    {
      "id": "54d29378-0df3-4e77-b4ad-cf2f9ae9647f",
      "cell_type": "markdown",
      "source": "Generate custom sequences in numpy without hardcoding",
      "metadata": {}
    },
    {
      "id": "e8fdb836-23b2-4b71-87bb-e9ad4bda28a5",
      "cell_type": "code",
      "source": "a = np.array([1,2,3,2,3,4,3,4,5,6])\nb = np.array([7,2,10,2,7,4,9,4,9,8])\nnp.intersect1d(a,b)",
      "metadata": {
        "trusted": true
      },
      "outputs": [
        {
          "execution_count": 13,
          "output_type": "execute_result",
          "data": {
            "text/plain": "array([2, 4])"
          },
          "metadata": {}
        }
      ],
      "execution_count": 13
    },
    {
      "id": "960597ac-fe26-4328-9cfe-8f4ab58081cd",
      "cell_type": "markdown",
      "source": "From array a remove all items present in array b",
      "metadata": {}
    },
    {
      "id": "3f6c1dca-b63f-46b6-af30-aa9cf4e0cc96",
      "cell_type": "code",
      "source": "a = np.array([1,2,3,4,5])\nb = np.array([5,6,7,8,9])\n\nnp.setdiff1d(a,b)",
      "metadata": {
        "trusted": true
      },
      "outputs": [
        {
          "execution_count": 14,
          "output_type": "execute_result",
          "data": {
            "text/plain": "array([1, 2, 3, 4])"
          },
          "metadata": {}
        }
      ],
      "execution_count": 14
    },
    {
      "id": "de8e4d47-7660-4485-adba-b795a6c232cc",
      "cell_type": "markdown",
      "source": "Get the positions where elements of a and b match",
      "metadata": {}
    },
    {
      "id": "d0456a52-919f-49c3-b9dc-015a8b1f06cf",
      "cell_type": "code",
      "source": "a = np.array([1,2,3,2,3,4,3,4,5,6])\nb = np.array([7,2,10,2,7,4,9,4,9,8])\n\nnp.where(a == b)",
      "metadata": {
        "trusted": true
      },
      "outputs": [
        {
          "execution_count": 15,
          "output_type": "execute_result",
          "data": {
            "text/plain": "(array([1, 3, 5, 7], dtype=int32),)"
          },
          "metadata": {}
        }
      ],
      "execution_count": 15
    },
    {
      "id": "f74ec634-1d80-4b24-8ab0-be282f9cfb76",
      "cell_type": "markdown",
      "source": "Get all items between 5 and 10 from a.",
      "metadata": {}
    },
    {
      "id": "f462caff-b8c1-4f07-bccb-5f8cb99449bf",
      "cell_type": "code",
      "source": "a = np.array([2, 6, 1, 9, 10, 3, 27])\na[(a >= 5) & (a <= 10)]",
      "metadata": {
        "trusted": true
      },
      "outputs": [
        {
          "execution_count": 16,
          "output_type": "execute_result",
          "data": {
            "text/plain": "array([ 6,  9, 10])"
          },
          "metadata": {}
        }
      ],
      "execution_count": 16
    }
  ]
}