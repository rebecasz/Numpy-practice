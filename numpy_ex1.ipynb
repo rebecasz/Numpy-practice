{
 "cells": [
  {
   "cell_type": "code",
   "execution_count": 1,
   "id": "04c3ee46",
   "metadata": {},
   "outputs": [],
   "source": [
    "import numpy as np"
   ]
  },
  {
   "cell_type": "markdown",
   "id": "8bc16550",
   "metadata": {},
   "source": [
    "Write a program to convert a string element to uppercase, lowercase, capitalise the first letter, title-case and swapcase of a given NumPy array."
   ]
  },
  {
   "cell_type": "code",
   "execution_count": 9,
   "id": "d0d5db13",
   "metadata": {
    "scrolled": true
   },
   "outputs": [
    {
     "name": "stdout",
     "output_type": "stream",
     "text": [
      "['I' 'LOVE' 'NUMPY' 'AND' 'INTERVIEWBIT']\n",
      "['i' 'love' 'numpy' 'and' 'interviewbit']\n",
      "['I' 'Love' 'Numpy' 'And' 'Interviewbit']\n",
      "['I' 'Love' 'Numpy' 'And' 'Interviewbit']\n",
      "['I' 'LOVE' 'nUMpY' 'and' 'INTERVIEWBIT']\n"
     ]
    }
   ],
   "source": [
    "arr = np.array(['i', 'love', 'NumPy', 'AND', 'interviewbit'], dtype=str)\n",
    "\n",
    "upper_case = np.char.upper(arr)\n",
    "print(upper_case)\n",
    "\n",
    "lower_case=np.char.lower(arr)\n",
    "print(lower_case)\n",
    "\n",
    "capitalize = np.char.capitalize(arr)\n",
    "print(capitalize)\n",
    "\n",
    "title_case = np.char.title(arr)\n",
    "print(title_case)\n",
    "\n",
    "swap_case = np.char.swapcase(arr)\n",
    "print(swap_case)\n",
    "                               "
   ]
  },
  {
   "cell_type": "markdown",
   "id": "66e7d655",
   "metadata": {},
   "source": [
    "Write a program to transform elements of a given string to a numeric string of 10 digits by making all the elements of a given string to a numeric string of 8 digits with zeros on the left."
   ]
  },
  {
   "cell_type": "code",
   "execution_count": 12,
   "id": "d0958a07",
   "metadata": {},
   "outputs": [
    {
     "name": "stdout",
     "output_type": "stream",
     "text": [
      "['00000022' '00000009' '00001234' '00000567' '00089102' 'xxxxxxxx']\n"
     ]
    }
   ],
   "source": [
    "arr1 = np.array(['22', '9', '1234', '567', '89102', 'xxxxxxxxx'], dtype=str)\n",
    "\n",
    "left_padded_string = np.char.rjust(arr1, 8, fillchar='0')\n",
    "print(left_padded_string)"
   ]
  },
  {
   "cell_type": "markdown",
   "id": "40dbdae1",
   "metadata": {},
   "source": [
    "Functions for string padding\n",
    "   - numpy.char.center()\n",
    "   - numpy.char.ljust()\n",
    "   - numpy.char.rjust()\n",
    "   - numpy.char.zfill()"
   ]
  },
  {
   "cell_type": "code",
   "execution_count": 17,
   "id": "87482ba3",
   "metadata": {},
   "outputs": [
    {
     "name": "stdout",
     "output_type": "stream",
     "text": [
      "**Hello***\n",
      "Hello***\n",
      "**Hello\n",
      "000Hello\n"
     ]
    }
   ],
   "source": [
    "input_string = 'Hello'\n",
    "\n",
    "# Center padding\n",
    "centered_string = np.char.center(input_string, 10, fillchar='*')\n",
    "print(centered_string)\n",
    "\n",
    "left_padded_string = np.char.ljust(input_string, 8, fillchar='*')\n",
    "print(left_padded_string)\n",
    "\n",
    "right_padded_string = np.char.rjust(input_string, 7, fillchar='*')\n",
    "print(right_padded_string)\n",
    "\n",
    "formatted_array = np.char.zfill(input_string, 8)\n",
    "print(formatted_array)\n"
   ]
  },
  {
   "cell_type": "markdown",
   "id": "257663d2",
   "metadata": {},
   "source": [
    "Write a program for inserting space between characters of all elements in a NumPy array.\n",
    "- numpy.char.join() function to insert a space between characters of all elements in a NumPy array."
   ]
  },
  {
   "cell_type": "code",
   "execution_count": 18,
   "id": "455ca9d8",
   "metadata": {},
   "outputs": [
    {
     "name": "stdout",
     "output_type": "stream",
     "text": [
      "['H e l l o' 'W o r l d' 'N u m P y']\n"
     ]
    }
   ],
   "source": [
    "input_array = np.array(['Hello', 'World', 'NumPy'])\n",
    "\n",
    "space_inserted_array = np.char.join(' ', input_array)\n",
    "print(space_inserted_array)"
   ]
  },
  {
   "cell_type": "markdown",
   "id": "c794e1bd",
   "metadata": {},
   "source": [
    "Write a program to repeat each of the elements five times for a given array."
   ]
  },
  {
   "cell_type": "code",
   "execution_count": 26,
   "id": "16cc19e8",
   "metadata": {},
   "outputs": [
    {
     "name": "stdout",
     "output_type": "stream",
     "text": [
      "['HelloHelloHelloHelloHello' 'WorldWorldWorldWorldWorld'\n",
      " 'NumPyNumPyNumPyNumPyNumPy']\n"
     ]
    }
   ],
   "source": [
    "input_array = np.array(['Hello', 'World', 'NumPy'])\n",
    "\n",
    "space_inserted_array = np.char.multiply(input_array,5)\n",
    "print(space_inserted_array)"
   ]
  },
  {
   "cell_type": "code",
   "execution_count": null,
   "id": "3dd18c0f",
   "metadata": {},
   "outputs": [],
   "source": []
  }
 ],
 "metadata": {
  "kernelspec": {
   "display_name": "Python 3 (ipykernel)",
   "language": "python",
   "name": "python3"
  },
  "language_info": {
   "codemirror_mode": {
    "name": "ipython",
    "version": 3
   },
   "file_extension": ".py",
   "mimetype": "text/x-python",
   "name": "python",
   "nbconvert_exporter": "python",
   "pygments_lexer": "ipython3",
   "version": "3.9.12"
  }
 },
 "nbformat": 4,
 "nbformat_minor": 5
}
