{
 "cells": [
  {
   "cell_type": "code",
   "execution_count": 13,
   "id": "468d27ba",
   "metadata": {},
   "outputs": [
    {
     "name": "stdout",
     "output_type": "stream",
     "text": [
      "Original array: [ 1  1  2  2  7  9  9 10]\n",
      "Unique values: [ 1  2  7  9 10]\n"
     ]
    }
   ],
   "source": [
    "# Get unique values from a list\n",
    "\n",
    "import numpy as np\n",
    "\n",
    "\n",
    "x = np.array([1, 2, 10, 9, 1, 2, 7, 9])\n",
    "x = np.sort(x)\n",
    "\n",
    "y = []\n",
    "\n",
    "for i in range(len(x)):\n",
    "    if  x[i] != x[i-1]:\n",
    "        y.append(True)\n",
    "    else:\n",
    "        y.append(False)\n",
    "\n",
    "newarr = x[y]\n",
    "\n",
    "print(\"Original array:\", x)\n",
    "print(\"Unique values:\", newarr)\n"
   ]
  },
  {
   "cell_type": "code",
   "execution_count": null,
   "id": "47ab3bd1",
   "metadata": {},
   "outputs": [],
   "source": []
  }
 ],
 "metadata": {
  "kernelspec": {
   "display_name": "Python 3 (ipykernel)",
   "language": "python",
   "name": "python3"
  },
  "language_info": {
   "codemirror_mode": {
    "name": "ipython",
    "version": 3
   },
   "file_extension": ".py",
   "mimetype": "text/x-python",
   "name": "python",
   "nbconvert_exporter": "python",
   "pygments_lexer": "ipython3",
   "version": "3.9.12"
  }
 },
 "nbformat": 4,
 "nbformat_minor": 5
}
